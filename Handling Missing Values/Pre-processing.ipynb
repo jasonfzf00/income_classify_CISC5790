{
 "cells": [
  {
   "cell_type": "code",
   "execution_count": null,
   "id": "dc8e41a7-53aa-4857-bf44-1c181acbb1a1",
   "metadata": {},
   "outputs": [],
   "source": [
    "import pandas as pd\n",
    "import numpy as np\n",
    "import seaborn as sns\n",
    "import matplotlib as plt"
   ]
  },
  {
   "cell_type": "code",
   "execution_count": null,
   "id": "dc4b0b19-f279-4164-a9fe-9c0c679589fc",
   "metadata": {},
   "outputs": [],
   "source": [
    "df = pd.read_csv (\"census-income.data.csv\", index_col = None, names=['age', 'workclass', 'fnlwgt', 'education', 'education_num','marital_status', 'occupation','relationship', 'race', 'sex', 'capital_gain', 'capital_loss', \"hours_per_week\", \"native_country\", 'income'], sep=',\\s',na_values=[\"?\"],engine=\"python\")"
   ]
  },
  {
   "cell_type": "code",
   "execution_count": null,
   "id": "5866477b-6d62-4fb7-a410-bf6fcb751737",
   "metadata": {},
   "outputs": [],
   "source": [
    "df.head(20)"
   ]
  },
  {
   "cell_type": "code",
   "execution_count": null,
   "id": "b02611bd-233e-42a8-8e30-f69c77ea5662",
   "metadata": {},
   "outputs": [],
   "source": [
    "df['income']"
   ]
  },
  {
   "cell_type": "code",
   "execution_count": null,
   "id": "0e277fe9-cf24-42d2-aa41-018461f5b228",
   "metadata": {},
   "outputs": [],
   "source": [
    "#Checking for missing values before encoding\n",
    "missing_values = df.isnull().sum()\n",
    "print(\"missing_values:\")\n",
    "print(missing_values)"
   ]
  },
  {
   "cell_type": "code",
   "execution_count": null,
   "id": "b892a476-a94a-4c3f-9299-aad6b94d4e1c",
   "metadata": {},
   "outputs": [],
   "source": [
    "df = df.dropna()"
   ]
  },
  {
   "cell_type": "code",
   "execution_count": null,
   "id": "3ff790d7-98bf-46f3-9567-db35ec56b8e8",
   "metadata": {
    "scrolled": true
   },
   "outputs": [],
   "source": [
    "#Checking for missing values before encoding\n",
    "missing_values = df.isnull().sum()\n",
    "print(\"missing_values:\")\n",
    "print(missing_values)"
   ]
  },
  {
   "cell_type": "code",
   "execution_count": null,
   "id": "e888201b-a048-4676-bba0-44c61646adb8",
   "metadata": {},
   "outputs": [],
   "source": [
    "#encoding categorical variables to numeric codes\n",
    "from sklearn.preprocessing import LabelEncoder\n",
    "\n",
    "#calling labelencoder\n",
    "lab_enc = LabelEncoder()\n",
    "\n",
    "#performing label encoding in the select features\n",
    "df['workclass'] = lab_enc.fit_transform(df['workclass'])\n",
    "df['education'] = lab_enc.fit_transform(df['education'])\n",
    "df['marital_status'] = lab_enc.fit_transform(df['marital_status'])\n",
    "df['occupation'] = lab_enc.fit_transform(df['occupation'])\n",
    "df['relationship'] = lab_enc.fit_transform(df['relationship'])\n",
    "df['race'] = lab_enc.fit_transform(df['race'])\n",
    "df['sex'] = lab_enc.fit_transform(df['sex'])\n",
    "df['native_country'] = lab_enc.fit_transform(df['native_country'])\n",
    "df['age'] = lab_enc.fit_transform(df['age'])\n"
   ]
  },
  {
   "cell_type": "code",
   "execution_count": null,
   "id": "b6834c01-8f1c-47a3-8d37-010883f300cc",
   "metadata": {
    "scrolled": true
   },
   "outputs": [],
   "source": [
    "print(df['income'].value_counts())\n",
    "#  # <=50K    24720\n",
    "#  # >50K      7841\n",
    "\n",
    "#Encoding for label. If <=50k then 0 else 1\n",
    "label_info = {'<=50K':0, '>50K':1}\n",
    "df['income'] = df['income'].map(label_info)\n",
    "# # source:https://stackoverflow.com/questions/65716571/encoding-column-pandas-using-if-condition\n",
    "\n",
    "# # after encoding \n",
    "print(f\"After encoding\", df['income'].value_counts())"
   ]
  },
  {
   "cell_type": "code",
   "execution_count": null,
   "id": "d8f5ab15-27d7-491f-b51c-166cde3e90c8",
   "metadata": {
    "scrolled": true
   },
   "outputs": [],
   "source": [
    "###imputing\n",
    "df1 = pd.read_csv (\"census-income.data.csv\", index_col = None, names=['age', 'workclass', 'fnlwgt', 'education', 'education_num','marital_status', 'occupation','relationship', 'race', 'sex', 'capital_gain', 'capital_loss', \"hours_per_week\", \"native_country\", 'income'], sep=',\\s',na_values=[\"?\"],engine=\"python\")\n",
    "\n",
    "df1.head(30)"
   ]
  },
  {
   "cell_type": "code",
   "execution_count": null,
   "id": "25292970-8659-46fa-8261-328a66e1c6d3",
   "metadata": {},
   "outputs": [],
   "source": [
    "#Selecting features and splitting the datasets into features and label\n",
    "selected_features = ['age', 'workclass', 'education_num','marital_status', 'occupation','relationship', 'race', 'sex', \"hours_per_week\", \"native_country\"]\n",
    "\n",
    "x = df1[selected_features] #feature\n",
    "y = df1.income #label\n",
    "\n",
    "missing_values = df1.isnull().sum()\n",
    "print(\"missing_values:\")\n",
    "print(missing_values)"
   ]
  },
  {
   "cell_type": "code",
   "execution_count": null,
   "id": "ac84181d-9150-47f3-855b-d7358e92a8db",
   "metadata": {},
   "outputs": [],
   "source": [
    "df1.fillna(\"missing\", inplace=True)\n",
    "df1.replace('missing', np.nan, inplace=True)\n",
    "df1.head(30)"
   ]
  },
  {
   "cell_type": "code",
   "execution_count": null,
   "id": "b717b5b6-f28c-415a-ae30-d2ca01983e50",
   "metadata": {},
   "outputs": [],
   "source": [
    "#Separation\n",
    "category = ['workclass', 'education', 'marital_status', 'occupation', 'relationship', 'race', 'sex', 'native_country']\n",
    "df1_cat = df1[category]\n",
    "numericall = ['age', 'education_num', 'capital_gain', 'capital_loss', 'hours_per_week', 'income']\n",
    "df1_num = df1[numericall]\n",
    "\n",
    "missing_values = df1_cat.isnull().sum()\n",
    "print(\"missing_values:\")\n",
    "print(missing_values)"
   ]
  },
  {
   "cell_type": "code",
   "execution_count": null,
   "id": "506024da-cc61-4638-ac90-5aa3c7cf9419",
   "metadata": {
    "scrolled": true
   },
   "outputs": [],
   "source": [
    "from fancyimpute import KNN\n",
    "\n",
    "df1_encoded = pd.get_dummies(df1_cat)\n",
    "\n",
    "imputer = KNN()\n",
    "df1_imputed = pd.DataFrame(imputer.fit_transform(df1_encoded), columns=df1_encoded.columns)\n",
    "\n",
    "\n",
    "print(\"Imputed DataFrame:\")\n",
    "print(df1_imputed)"
   ]
  },
  {
   "cell_type": "code",
   "execution_count": null,
   "id": "d0ab4d09-46da-4e41-bee7-0f67305df65f",
   "metadata": {},
   "outputs": [],
   "source": []
  },
  {
   "cell_type": "code",
   "execution_count": null,
   "id": "0e9f66b2-a14e-4e51-a673-89ddf2702d20",
   "metadata": {},
   "outputs": [],
   "source": [
    "features = ['age', 'workclass', 'fnlwgt', 'education', 'education_num','marital_status', 'occupation','relationship', 'race', 'sex', 'capital_gain', 'capital_loss', \"hours_per_week\", \"native_country\", 'income']\n",
    "\n",
    "#Separate dfs with rows containing missing values and not containing missing values. \n",
    "df1_nmiss = df1[df1[features].notnull().any(axis=1)]\n",
    "df1_miss = df1[df1[features].isnull().any(axis=1)]"
   ]
  },
  {
   "cell_type": "code",
   "execution_count": null,
   "id": "c42019db-dd49-4290-8d34-4eb6d651638a",
   "metadata": {},
   "outputs": [],
   "source": [
    "df1_nmiss.head(15)"
   ]
  },
  {
   "cell_type": "code",
   "execution_count": null,
   "id": "c8f9b732-2d92-40cc-9322-47482c75e7ee",
   "metadata": {},
   "outputs": [],
   "source": [
    "df1_miss.head(15)"
   ]
  },
  {
   "cell_type": "code",
   "execution_count": null,
   "id": "d929e3b8-22d1-44e2-9c1a-ca290bcc902c",
   "metadata": {},
   "outputs": [],
   "source": [
    "#https://scikit-learn.org/stable/modules/impute.html\n",
    "#Implementing knn to impute the missing values\n",
    "\n",
    "from sklearn.impute import KNNImputer\n",
    "\n",
    "imputes = KNNImputer(n_neighbors=15, weights=\"uniform\", metric='nan_euclidean')\n",
    "\n"
   ]
  },
  {
   "cell_type": "code",
   "execution_count": null,
   "id": "19699575-a2ce-4557-a052-7c3a50ea1cd8",
   "metadata": {},
   "outputs": [],
   "source": [
    "#imputed\n",
    "\n",
    "imputes.fit(df1)"
   ]
  },
  {
   "cell_type": "code",
   "execution_count": null,
   "id": "a27b7f5a-345c-4db2-8963-11a6cb225371",
   "metadata": {},
   "outputs": [],
   "source": [
    "\n",
    "test = pd.read_csv (\"census-income.test.csv\", index_col = None, names=['age', 'workclass', 'fnlwgt', 'education', 'education_num','marital_status', 'occupation','relationship', 'race', 'sex', 'capital_gain', 'capital_loss', \"hours_per_week\", \"native_country\", 'income'])"
   ]
  },
  {
   "cell_type": "code",
   "execution_count": null,
   "id": "25d12ecd-e5a7-48f1-8e7f-d508a7ffc2a6",
   "metadata": {},
   "outputs": [],
   "source": [
    "test.head(30)"
   ]
  },
  {
   "cell_type": "code",
   "execution_count": null,
   "id": "2174c684-928d-45e1-968c-821466ba81ec",
   "metadata": {},
   "outputs": [],
   "source": [
    "#converting ? to nan\n",
    "test[test==' ']= np.nan\n",
    "\n",
    "test.head(15)"
   ]
  },
  {
   "cell_type": "code",
   "execution_count": null,
   "id": "b9dbe59c-52cf-479c-913a-3e713ca967d5",
   "metadata": {},
   "outputs": [],
   "source": [
    "missing_values = test.isnull().sum()\n",
    "print(\"missing_values:\")\n",
    "print(missing_values)"
   ]
  },
  {
   "cell_type": "code",
   "execution_count": null,
   "id": "bdc083bc-4555-4ba6-985d-99d3b0fd68db",
   "metadata": {},
   "outputs": [],
   "source": [
    "test.age.unique()"
   ]
  },
  {
   "cell_type": "code",
   "execution_count": null,
   "id": "7c19a7bd-d7f5-425f-b750-6bcf62697eca",
   "metadata": {},
   "outputs": [],
   "source": [
    "#Removing all missing values\n",
    "test = test.dropna()\n",
    "missing_values = test.isnull().sum()\n",
    "print(\"missing_values:\")\n",
    "print(missing_values)"
   ]
  },
  {
   "cell_type": "code",
   "execution_count": null,
   "id": "458be0c9-faf1-48b1-a663-cc113963dcec",
   "metadata": {},
   "outputs": [],
   "source": [
    "#Imputing missing values for income dataset. \n",
    "import pandas as pd\n",
    "import numpy as np\n",
    "\n",
    "# Read CSV file and replace '?' with NaN\n",
    "df1 = pd.read_csv(\"census-income.data.csv\", index_col=None, names=['age', 'workclass', 'fnlwgt', 'education', 'education_num',\n",
    "                                                                  'marital_status', 'occupation', 'relationship', 'race',\n",
    "                                                                  'sex', 'capital_gain', 'capital_loss', 'hours_per_week',\n",
    "                                                                  'native_country', 'income'], sep=',\\s', na_values=[\"?\"], engine=\"python\")\n",
    "\n",
    "# Replace NaNs with 'missing'\n",
    "df1.fillna(\"missing\", inplace=True)\n",
    "\n",
    "# Encode categorical columns\n",
    "df1_encoded = pd.get_dummies(df1)\n",
    "\n",
    "# Perform KNN imputation\n",
    "from fancyimpute import KNN\n",
    "\n",
    "imputer = KNN()\n",
    "df1_imputed = pd.DataFrame(imputer.fit_transform(df1_encoded), columns=df1_encoded.columns)\n",
    "\n",
    "print(\"Imputed DataFrame:\")\n",
    "print(df1_imputed)\n"
   ]
  }
 ],
 "metadata": {
  "kernelspec": {
   "display_name": "Python 3 (ipykernel)",
   "language": "python",
   "name": "python3"
  },
  "language_info": {
   "codemirror_mode": {
    "name": "ipython",
    "version": 3
   },
   "file_extension": ".py",
   "mimetype": "text/x-python",
   "name": "python",
   "nbconvert_exporter": "python",
   "pygments_lexer": "ipython3",
   "version": "3.9.18"
  }
 },
 "nbformat": 4,
 "nbformat_minor": 5
}
