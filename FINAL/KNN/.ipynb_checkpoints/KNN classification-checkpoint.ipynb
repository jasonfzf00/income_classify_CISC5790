{
 "cells": [
  {
   "cell_type": "code",
   "execution_count": 1,
   "id": "b423da0b-9043-4fb6-bd1a-f0c789181de7",
   "metadata": {},
   "outputs": [],
   "source": [
    "#Implementation of KNN\n",
    "import pandas as pd\n",
    "import numpy as np\n",
    "import seaborn as sns\n",
    "import matplotlib as plt\n",
    "from sklearn.model_selection import train_test_split\n",
    "from sklearn.neighbors import KNeighborsClassifier\n",
    "import matplotlib.pyplot as plt\n",
    "from imblearn.over_sampling import RandomOverSampler "
   ]
  },
  {
   "cell_type": "code",
   "execution_count": 2,
   "id": "aa071037-13c1-4795-aa24-8fa2f0861524",
   "metadata": {},
   "outputs": [],
   "source": [
    "df = pd.read_csv (\"census-income.data.csv\", index_col = None)"
   ]
  },
  {
   "cell_type": "code",
   "execution_count": 6,
   "id": "f7c7070d-5396-4a32-969a-062fc0bde57a",
   "metadata": {},
   "outputs": [
    {
     "data": {
      "text/html": [
       "<div>\n",
       "<style scoped>\n",
       "    .dataframe tbody tr th:only-of-type {\n",
       "        vertical-align: middle;\n",
       "    }\n",
       "\n",
       "    .dataframe tbody tr th {\n",
       "        vertical-align: top;\n",
       "    }\n",
       "\n",
       "    .dataframe thead th {\n",
       "        text-align: right;\n",
       "    }\n",
       "</style>\n",
       "<table border=\"1\" class=\"dataframe\">\n",
       "  <thead>\n",
       "    <tr style=\"text-align: right;\">\n",
       "      <th></th>\n",
       "      <th>age</th>\n",
       "      <th>workclass</th>\n",
       "      <th>fnlwgt</th>\n",
       "      <th>education</th>\n",
       "      <th>education-num</th>\n",
       "      <th>marital-status</th>\n",
       "      <th>occupation</th>\n",
       "      <th>relationship</th>\n",
       "      <th>race</th>\n",
       "      <th>sex</th>\n",
       "      <th>capital-gain</th>\n",
       "      <th>capital-loss</th>\n",
       "      <th>hours-per-week</th>\n",
       "      <th>native-country</th>\n",
       "      <th>income</th>\n",
       "    </tr>\n",
       "  </thead>\n",
       "  <tbody>\n",
       "    <tr>\n",
       "      <th>0</th>\n",
       "      <td>39</td>\n",
       "      <td>6</td>\n",
       "      <td>77516</td>\n",
       "      <td>9</td>\n",
       "      <td>13</td>\n",
       "      <td>4</td>\n",
       "      <td>0</td>\n",
       "      <td>1</td>\n",
       "      <td>4</td>\n",
       "      <td>1</td>\n",
       "      <td>2174</td>\n",
       "      <td>0</td>\n",
       "      <td>40</td>\n",
       "      <td>38</td>\n",
       "      <td>0</td>\n",
       "    </tr>\n",
       "    <tr>\n",
       "      <th>1</th>\n",
       "      <td>50</td>\n",
       "      <td>5</td>\n",
       "      <td>83311</td>\n",
       "      <td>9</td>\n",
       "      <td>13</td>\n",
       "      <td>2</td>\n",
       "      <td>3</td>\n",
       "      <td>0</td>\n",
       "      <td>4</td>\n",
       "      <td>1</td>\n",
       "      <td>0</td>\n",
       "      <td>0</td>\n",
       "      <td>13</td>\n",
       "      <td>38</td>\n",
       "      <td>0</td>\n",
       "    </tr>\n",
       "    <tr>\n",
       "      <th>2</th>\n",
       "      <td>38</td>\n",
       "      <td>3</td>\n",
       "      <td>215646</td>\n",
       "      <td>11</td>\n",
       "      <td>9</td>\n",
       "      <td>0</td>\n",
       "      <td>5</td>\n",
       "      <td>1</td>\n",
       "      <td>4</td>\n",
       "      <td>1</td>\n",
       "      <td>0</td>\n",
       "      <td>0</td>\n",
       "      <td>40</td>\n",
       "      <td>38</td>\n",
       "      <td>0</td>\n",
       "    </tr>\n",
       "    <tr>\n",
       "      <th>3</th>\n",
       "      <td>53</td>\n",
       "      <td>3</td>\n",
       "      <td>234721</td>\n",
       "      <td>1</td>\n",
       "      <td>7</td>\n",
       "      <td>2</td>\n",
       "      <td>5</td>\n",
       "      <td>0</td>\n",
       "      <td>2</td>\n",
       "      <td>1</td>\n",
       "      <td>0</td>\n",
       "      <td>0</td>\n",
       "      <td>40</td>\n",
       "      <td>38</td>\n",
       "      <td>0</td>\n",
       "    </tr>\n",
       "    <tr>\n",
       "      <th>4</th>\n",
       "      <td>28</td>\n",
       "      <td>3</td>\n",
       "      <td>338409</td>\n",
       "      <td>9</td>\n",
       "      <td>13</td>\n",
       "      <td>2</td>\n",
       "      <td>9</td>\n",
       "      <td>5</td>\n",
       "      <td>2</td>\n",
       "      <td>0</td>\n",
       "      <td>0</td>\n",
       "      <td>0</td>\n",
       "      <td>40</td>\n",
       "      <td>4</td>\n",
       "      <td>0</td>\n",
       "    </tr>\n",
       "  </tbody>\n",
       "</table>\n",
       "</div>"
      ],
      "text/plain": [
       "   age  workclass  fnlwgt  education  education-num  marital-status  \\\n",
       "0   39          6   77516          9             13               4   \n",
       "1   50          5   83311          9             13               2   \n",
       "2   38          3  215646         11              9               0   \n",
       "3   53          3  234721          1              7               2   \n",
       "4   28          3  338409          9             13               2   \n",
       "\n",
       "   occupation  relationship  race  sex  capital-gain  capital-loss  \\\n",
       "0           0             1     4    1          2174             0   \n",
       "1           3             0     4    1             0             0   \n",
       "2           5             1     4    1             0             0   \n",
       "3           5             0     2    1             0             0   \n",
       "4           9             5     2    0             0             0   \n",
       "\n",
       "   hours-per-week  native-country  income  \n",
       "0              40              38       0  \n",
       "1              13              38       0  \n",
       "2              40              38       0  \n",
       "3              40              38       0  \n",
       "4              40               4       0  "
      ]
     },
     "execution_count": 6,
     "metadata": {},
     "output_type": "execute_result"
    }
   ],
   "source": [
    "df.head()"
   ]
  },
  {
   "cell_type": "code",
   "execution_count": 4,
   "id": "917b417d-2649-4033-ae69-2ae33829cf4b",
   "metadata": {},
   "outputs": [],
   "source": [
    "#Selecting features and splitting the datasets into features and label\n",
    "selected_features = ['age', 'workclass', 'education-num','marital-status', 'occupation','relationship', 'race', 'sex', \"hours-per-week\", \"native-country\"]\n",
    "\n",
    "x = df[selected_features] #feature\n",
    "y = df.income #label\n",
    "\n",
    "#Balancing the data\n",
    "ros = RandomOverSampler()\n",
    "ros.fit(x, y)\n",
    "\n",
    "X, Y = ros.fit_resample(x, y)"
   ]
  },
  {
   "cell_type": "code",
   "execution_count": 5,
   "id": "daa2a8c4-d609-49b7-8b55-dec556f396ba",
   "metadata": {},
   "outputs": [],
   "source": [
    "#Splitting the data into test and train\n",
    "\n",
    "x_train, x_test, y_train, y_test = train_test_split(X,Y, test_size = 0.25, random_state=7)"
   ]
  },
  {
   "cell_type": "code",
   "execution_count": 20,
   "id": "57e4ab72-7ab1-4f9e-a29b-68879894e429",
   "metadata": {},
   "outputs": [],
   "source": [
    "#Source: https://www.geeksforgeeks.org/k-nearest-neighbor-algorithm-in-python/\n",
    "#implementing the KNN algorithm\n",
    "#Assigning the nearest neighbor to 3 based on results below\n",
    "\n",
    "model1 = KNeighborsClassifier(n_neighbors=3)\n",
    "\n",
    "model1.fit(x_train, y_train)\n",
    "\n",
    "#Predicitng the model in the test \n",
    "y_pred = model1.predict(x_test)"
   ]
  },
  {
   "cell_type": "code",
   "execution_count": 21,
   "id": "63d78735-a463-4f71-9941-886d798bd2ca",
   "metadata": {},
   "outputs": [
    {
     "name": "stdout",
     "output_type": "stream",
     "text": [
      "0.8282362459546926\n"
     ]
    }
   ],
   "source": [
    "#To check the performance of the model\n",
    "\n",
    "print(model1.score(x_test, y_test))"
   ]
  },
  {
   "cell_type": "code",
   "execution_count": 22,
   "id": "86a9a923-22c6-48d1-8d32-5714e7d5a8b7",
   "metadata": {},
   "outputs": [],
   "source": [
    "#Deciding the k-value for the dataset. \n",
    "#Source: https://www.geeksforgeeks.org/k-nearest-neighbor-algorithm-in-python/\n",
    "\n",
    "neighbor = np.arange(1, 30)\n",
    "\n",
    "tr_acc = np.empty(len(neighbor)) #train accuracy\n",
    "te_acc = np.empty(len(neighbor)) #test accuracy\n",
    "\n",
    "#now looping throught the k values\n",
    "for i, k in enumerate(neighbor):\n",
    "    model2 = KNeighborsClassifier(n_neighbors=k)\n",
    "    model2.fit(x_train, y_train)\n",
    "\n",
    "#Computing the model accuracy\n",
    "    tr_acc[i] = model2.score(x_train, y_train)\n",
    "    te_acc[i] = model2.score(x_test, y_test)"
   ]
  },
  {
   "cell_type": "code",
   "execution_count": 23,
   "id": "69fe3e9e-b344-4af1-b667-399985136a18",
   "metadata": {},
   "outputs": [
    {
     "data": {
      "image/png": "[encoded data removed]",
      "text/plain": [
       "<Figure size 640x480 with 1 Axes>"
      ]
     },
     "metadata": {},
     "output_type": "display_data"
    }
   ],
   "source": [
    "#Now plotting the data\n",
    "plt.plot(neighbor, te_acc, label = \"Test data accuracy\")\n",
    "plt.plot(neighbor, tr_acc, label = \"Train data accuracy\")\n",
    "\n",
    "plt.legend()\n",
    "plt.xlabel('n_neighbors')\n",
    "plt.ylabel('accuracy')\n",
    "plt.show()\n"
   ]
  },
  {
   "cell_type": "code",
   "execution_count": 34,
   "id": "e6880c60-248c-4ed3-8b0e-2917d021347e",
   "metadata": {},
   "outputs": [],
   "source": [
    "##Should probably take 15 as the nearest neighbor. "
   ]
  },
  {
   "cell_type": "code",
   "execution_count": 24,
   "id": "dd864006-8c94-4681-add8-eb9e8835b78a",
   "metadata": {},
   "outputs": [
    {
     "data": {
      "text/html": [
       "<div>\n",
       "<style scoped>\n",
       "    .dataframe tbody tr th:only-of-type {\n",
       "        vertical-align: middle;\n",
       "    }\n",
       "\n",
       "    .dataframe tbody tr th {\n",
       "        vertical-align: top;\n",
       "    }\n",
       "\n",
       "    .dataframe thead th {\n",
       "        text-align: right;\n",
       "    }\n",
       "</style>\n",
       "<table border=\"1\" class=\"dataframe\">\n",
       "  <thead>\n",
       "    <tr style=\"text-align: right;\">\n",
       "      <th></th>\n",
       "      <th>age</th>\n",
       "      <th>workclass</th>\n",
       "      <th>fnlwgt</th>\n",
       "      <th>education</th>\n",
       "      <th>education-num</th>\n",
       "      <th>marital-status</th>\n",
       "      <th>occupation</th>\n",
       "      <th>relationship</th>\n",
       "      <th>race</th>\n",
       "      <th>sex</th>\n",
       "      <th>capital-gain</th>\n",
       "      <th>capital-loss</th>\n",
       "      <th>hours-per-week</th>\n",
       "      <th>native-country</th>\n",
       "      <th>income</th>\n",
       "    </tr>\n",
       "  </thead>\n",
       "  <tbody>\n",
       "    <tr>\n",
       "      <th>0</th>\n",
       "      <td>25</td>\n",
       "      <td>2</td>\n",
       "      <td>226802</td>\n",
       "      <td>1</td>\n",
       "      <td>7</td>\n",
       "      <td>4</td>\n",
       "      <td>6</td>\n",
       "      <td>3</td>\n",
       "      <td>2</td>\n",
       "      <td>1</td>\n",
       "      <td>0</td>\n",
       "      <td>0</td>\n",
       "      <td>40</td>\n",
       "      <td>37</td>\n",
       "      <td>0</td>\n",
       "    </tr>\n",
       "    <tr>\n",
       "      <th>1</th>\n",
       "      <td>38</td>\n",
       "      <td>2</td>\n",
       "      <td>89814</td>\n",
       "      <td>11</td>\n",
       "      <td>9</td>\n",
       "      <td>2</td>\n",
       "      <td>4</td>\n",
       "      <td>0</td>\n",
       "      <td>4</td>\n",
       "      <td>1</td>\n",
       "      <td>0</td>\n",
       "      <td>0</td>\n",
       "      <td>50</td>\n",
       "      <td>37</td>\n",
       "      <td>0</td>\n",
       "    </tr>\n",
       "    <tr>\n",
       "      <th>2</th>\n",
       "      <td>28</td>\n",
       "      <td>1</td>\n",
       "      <td>336951</td>\n",
       "      <td>7</td>\n",
       "      <td>12</td>\n",
       "      <td>2</td>\n",
       "      <td>10</td>\n",
       "      <td>0</td>\n",
       "      <td>4</td>\n",
       "      <td>1</td>\n",
       "      <td>0</td>\n",
       "      <td>0</td>\n",
       "      <td>40</td>\n",
       "      <td>37</td>\n",
       "      <td>1</td>\n",
       "    </tr>\n",
       "    <tr>\n",
       "      <th>3</th>\n",
       "      <td>44</td>\n",
       "      <td>2</td>\n",
       "      <td>160323</td>\n",
       "      <td>15</td>\n",
       "      <td>10</td>\n",
       "      <td>2</td>\n",
       "      <td>6</td>\n",
       "      <td>0</td>\n",
       "      <td>2</td>\n",
       "      <td>1</td>\n",
       "      <td>7688</td>\n",
       "      <td>0</td>\n",
       "      <td>40</td>\n",
       "      <td>37</td>\n",
       "      <td>1</td>\n",
       "    </tr>\n",
       "    <tr>\n",
       "      <th>4</th>\n",
       "      <td>34</td>\n",
       "      <td>2</td>\n",
       "      <td>198693</td>\n",
       "      <td>0</td>\n",
       "      <td>6</td>\n",
       "      <td>4</td>\n",
       "      <td>7</td>\n",
       "      <td>1</td>\n",
       "      <td>4</td>\n",
       "      <td>1</td>\n",
       "      <td>0</td>\n",
       "      <td>0</td>\n",
       "      <td>30</td>\n",
       "      <td>37</td>\n",
       "      <td>0</td>\n",
       "    </tr>\n",
       "  </tbody>\n",
       "</table>\n",
       "</div>"
      ],
      "text/plain": [
       "   age  workclass  fnlwgt  education  education-num  marital-status  \\\n",
       "0   25          2  226802          1              7               4   \n",
       "1   38          2   89814         11              9               2   \n",
       "2   28          1  336951          7             12               2   \n",
       "3   44          2  160323         15             10               2   \n",
       "4   34          2  198693          0              6               4   \n",
       "\n",
       "   occupation  relationship  race  sex  capital-gain  capital-loss  \\\n",
       "0           6             3     2    1             0             0   \n",
       "1           4             0     4    1             0             0   \n",
       "2          10             0     4    1             0             0   \n",
       "3           6             0     2    1          7688             0   \n",
       "4           7             1     4    1             0             0   \n",
       "\n",
       "   hours-per-week  native-country  income  \n",
       "0              40              37       0  \n",
       "1              50              37       0  \n",
       "2              40              37       1  \n",
       "3              40              37       1  \n",
       "4              30              37       0  "
      ]
     },
     "execution_count": 24,
     "metadata": {},
     "output_type": "execute_result"
    }
   ],
   "source": [
    "#now checking from the test data\n",
    "test = pd.read_csv (\"census-income.test.csv\", index_col = None)\n",
    "test.head()"
   ]
  },
  {
   "cell_type": "code",
   "execution_count": 25,
   "id": "0a8660a5-35f2-4612-a2de-b35b5fae5212",
   "metadata": {},
   "outputs": [
    {
     "name": "stdout",
     "output_type": "stream",
     "text": [
      "[0 0 1 ... 1 0 1]\n"
     ]
    }
   ],
   "source": [
    "selected_features = ['age', 'workclass', 'education-num','marital-status', 'occupation','relationship', 'race', 'sex', \"hours-per-week\", \"native-country\"]\n",
    "\n",
    "#from the real test data\n",
    "x_test_real = test[selected_features]\n",
    "y_test_real = test.income\n",
    "\n",
    "#Source: https://www.geeksforgeeks.org/k-nearest-neighbor-algorithm-in-python/\n",
    "#implementing the KNN algorithm\n",
    "\n",
    "#Predicitng the model in the test \n",
    "y_pred_real = model1.predict(x_test_real)\n",
    "print(y_pred_real)\n"
   ]
  },
  {
   "cell_type": "code",
   "execution_count": 26,
   "id": "8027a769-6a79-4afe-a598-09ea07c56aef",
   "metadata": {},
   "outputs": [
    {
     "name": "stdout",
     "output_type": "stream",
     "text": [
      "0.7386454183266933\n"
     ]
    }
   ],
   "source": [
    "#To check the performance of the model\n",
    "\n",
    "print(model1.score(x_test_real, y_test_real))"
   ]
  },
  {
   "cell_type": "code",
   "execution_count": 27,
   "id": "30afb7fd-38f3-4c4c-962b-04024c2faeb2",
   "metadata": {},
   "outputs": [],
   "source": [
    "#Exporting prediction results to csv\n",
    "prediction = pd.DataFrame(y_pred_real, columns=['KNN_predictions'])\n",
    "\n",
    "prediction.to_csv('KNNPredictionTest.csv', index= False)"
   ]
  },
  {
   "cell_type": "code",
   "execution_count": 28,
   "id": "67ca5c66-95d6-4f6b-8725-40f36fcac6ff",
   "metadata": {},
   "outputs": [
    {
     "data": {
      "text/plain": [
       "15060"
      ]
     },
     "execution_count": 28,
     "metadata": {},
     "output_type": "execute_result"
    }
   ],
   "source": [
    "len(prediction)"
   ]
  },
  {
   "cell_type": "code",
   "execution_count": 29,
   "id": "9829f493-7580-4560-86ed-f58f2684b49a",
   "metadata": {},
   "outputs": [
    {
     "name": "stderr",
     "output_type": "stream",
     "text": [
      "[NbConvertApp] Converting notebook KNN classification.ipynb to script\n",
      "[NbConvertApp] Writing 3198 bytes to KNN classification.py\n"
     ]
    }
   ],
   "source": [
    "!jupyter nbconvert --to script *.ipynb"
   ]
  }
 ],
 "metadata": {
  "kernelspec": {
   "display_name": "Python 3 (ipykernel)",
   "language": "python",
   "name": "python3"
  },
  "language_info": {
   "codemirror_mode": {
    "name": "ipython",
    "version": 3
   },
   "file_extension": ".py",
   "mimetype": "text/x-python",
   "name": "python",
   "nbconvert_exporter": "python",
   "pygments_lexer": "ipython3",
   "version": "3.9.18"
  }
 },
 "nbformat": 4,
 "nbformat_minor": 5
}
