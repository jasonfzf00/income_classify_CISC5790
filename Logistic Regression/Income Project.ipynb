{
 "cells": [
  {
   "cell_type": "code",
   "execution_count": 3,
   "id": "11c916d3-8d1d-4cd5-8464-67fcdc0009b5",
   "metadata": {},
   "outputs": [],
   "source": [
    "import pandas as pd\n",
    "import numpy as np\n",
    "import seaborn as sns\n",
    "import matplotlib as plt\n",
    "from sklearn.model_selection import train_test_split\n",
    "from sklearn.linear_model import LogisticRegression\n",
    "\n"
   ]
  },
  {
   "cell_type": "code",
   "execution_count": 4,
   "id": "1b43c9b1-2f22-44fd-896f-1ee50164b672",
   "metadata": {},
   "outputs": [],
   "source": [
    "df = pd.read_csv (\"census-income.data.csv\", index_col = None, names=['age', 'workclass', 'fnlwgt', 'education', 'education_num','marital_status', 'occupation','relationship', 'race', 'sex', 'capital_gain', 'capital_loss', \"hours_per_week\", \"native_country\", 'income'])"
   ]
  },
  {
   "cell_type": "code",
   "execution_count": 5,
   "id": "50b023b1-e705-4c53-b84f-5163983fc4af",
   "metadata": {},
   "outputs": [
    {
     "data": {
      "text/html": [
       "<div>\n",
       "<style scoped>\n",
       "    .dataframe tbody tr th:only-of-type {\n",
       "        vertical-align: middle;\n",
       "    }\n",
       "\n",
       "    .dataframe tbody tr th {\n",
       "        vertical-align: top;\n",
       "    }\n",
       "\n",
       "    .dataframe thead th {\n",
       "        text-align: right;\n",
       "    }\n",
       "</style>\n",
       "<table border=\"1\" class=\"dataframe\">\n",
       "  <thead>\n",
       "    <tr style=\"text-align: right;\">\n",
       "      <th></th>\n",
       "      <th>age</th>\n",
       "      <th>workclass</th>\n",
       "      <th>fnlwgt</th>\n",
       "      <th>education</th>\n",
       "      <th>education_num</th>\n",
       "      <th>marital_status</th>\n",
       "      <th>occupation</th>\n",
       "      <th>relationship</th>\n",
       "      <th>race</th>\n",
       "      <th>sex</th>\n",
       "      <th>capital_gain</th>\n",
       "      <th>capital_loss</th>\n",
       "      <th>hours_per_week</th>\n",
       "      <th>native_country</th>\n",
       "      <th>income</th>\n",
       "    </tr>\n",
       "  </thead>\n",
       "  <tbody>\n",
       "    <tr>\n",
       "      <th>0</th>\n",
       "      <td>39</td>\n",
       "      <td>State-gov</td>\n",
       "      <td>77516</td>\n",
       "      <td>Bachelors</td>\n",
       "      <td>13</td>\n",
       "      <td>Never-married</td>\n",
       "      <td>Adm-clerical</td>\n",
       "      <td>Not-in-family</td>\n",
       "      <td>White</td>\n",
       "      <td>Male</td>\n",
       "      <td>2174</td>\n",
       "      <td>0</td>\n",
       "      <td>40</td>\n",
       "      <td>United-States</td>\n",
       "      <td>&lt;=50K</td>\n",
       "    </tr>\n",
       "    <tr>\n",
       "      <th>1</th>\n",
       "      <td>50</td>\n",
       "      <td>Self-emp-not-inc</td>\n",
       "      <td>83311</td>\n",
       "      <td>Bachelors</td>\n",
       "      <td>13</td>\n",
       "      <td>Married-civ-spouse</td>\n",
       "      <td>Exec-managerial</td>\n",
       "      <td>Husband</td>\n",
       "      <td>White</td>\n",
       "      <td>Male</td>\n",
       "      <td>0</td>\n",
       "      <td>0</td>\n",
       "      <td>13</td>\n",
       "      <td>United-States</td>\n",
       "      <td>&lt;=50K</td>\n",
       "    </tr>\n",
       "    <tr>\n",
       "      <th>2</th>\n",
       "      <td>38</td>\n",
       "      <td>Private</td>\n",
       "      <td>215646</td>\n",
       "      <td>HS-grad</td>\n",
       "      <td>9</td>\n",
       "      <td>Divorced</td>\n",
       "      <td>Handlers-cleaners</td>\n",
       "      <td>Not-in-family</td>\n",
       "      <td>White</td>\n",
       "      <td>Male</td>\n",
       "      <td>0</td>\n",
       "      <td>0</td>\n",
       "      <td>40</td>\n",
       "      <td>United-States</td>\n",
       "      <td>&lt;=50K</td>\n",
       "    </tr>\n",
       "    <tr>\n",
       "      <th>3</th>\n",
       "      <td>53</td>\n",
       "      <td>Private</td>\n",
       "      <td>234721</td>\n",
       "      <td>11th</td>\n",
       "      <td>7</td>\n",
       "      <td>Married-civ-spouse</td>\n",
       "      <td>Handlers-cleaners</td>\n",
       "      <td>Husband</td>\n",
       "      <td>Black</td>\n",
       "      <td>Male</td>\n",
       "      <td>0</td>\n",
       "      <td>0</td>\n",
       "      <td>40</td>\n",
       "      <td>United-States</td>\n",
       "      <td>&lt;=50K</td>\n",
       "    </tr>\n",
       "    <tr>\n",
       "      <th>4</th>\n",
       "      <td>28</td>\n",
       "      <td>Private</td>\n",
       "      <td>338409</td>\n",
       "      <td>Bachelors</td>\n",
       "      <td>13</td>\n",
       "      <td>Married-civ-spouse</td>\n",
       "      <td>Prof-specialty</td>\n",
       "      <td>Wife</td>\n",
       "      <td>Black</td>\n",
       "      <td>Female</td>\n",
       "      <td>0</td>\n",
       "      <td>0</td>\n",
       "      <td>40</td>\n",
       "      <td>Cuba</td>\n",
       "      <td>&lt;=50K</td>\n",
       "    </tr>\n",
       "  </tbody>\n",
       "</table>\n",
       "</div>"
      ],
      "text/plain": [
       "   age          workclass  fnlwgt   education  education_num  \\\n",
       "0   39          State-gov   77516   Bachelors             13   \n",
       "1   50   Self-emp-not-inc   83311   Bachelors             13   \n",
       "2   38            Private  215646     HS-grad              9   \n",
       "3   53            Private  234721        11th              7   \n",
       "4   28            Private  338409   Bachelors             13   \n",
       "\n",
       "        marital_status          occupation    relationship    race      sex  \\\n",
       "0        Never-married        Adm-clerical   Not-in-family   White     Male   \n",
       "1   Married-civ-spouse     Exec-managerial         Husband   White     Male   \n",
       "2             Divorced   Handlers-cleaners   Not-in-family   White     Male   \n",
       "3   Married-civ-spouse   Handlers-cleaners         Husband   Black     Male   \n",
       "4   Married-civ-spouse      Prof-specialty            Wife   Black   Female   \n",
       "\n",
       "   capital_gain  capital_loss  hours_per_week  native_country  income  \n",
       "0          2174             0              40   United-States   <=50K  \n",
       "1             0             0              13   United-States   <=50K  \n",
       "2             0             0              40   United-States   <=50K  \n",
       "3             0             0              40   United-States   <=50K  \n",
       "4             0             0              40            Cuba   <=50K  "
      ]
     },
     "execution_count": 5,
     "metadata": {},
     "output_type": "execute_result"
    }
   ],
   "source": [
    "df.head()"
   ]
  },
  {
   "cell_type": "code",
   "execution_count": 6,
   "id": "e6254b16-6def-4dbe-9c5a-a7361215fd3d",
   "metadata": {},
   "outputs": [
    {
     "name": "stdout",
     "output_type": "stream",
     "text": [
      "<class 'pandas.core.frame.DataFrame'>\n",
      "RangeIndex: 32561 entries, 0 to 32560\n",
      "Data columns (total 15 columns):\n",
      " #   Column          Non-Null Count  Dtype \n",
      "---  ------          --------------  ----- \n",
      " 0   age             32561 non-null  int64 \n",
      " 1   workclass       32561 non-null  object\n",
      " 2   fnlwgt          32561 non-null  int64 \n",
      " 3   education       32561 non-null  object\n",
      " 4   education_num   32561 non-null  int64 \n",
      " 5   marital_status  32561 non-null  object\n",
      " 6   occupation      32561 non-null  object\n",
      " 7   relationship    32561 non-null  object\n",
      " 8   race            32561 non-null  object\n",
      " 9   sex             32561 non-null  object\n",
      " 10  capital_gain    32561 non-null  int64 \n",
      " 11  capital_loss    32561 non-null  int64 \n",
      " 12  hours_per_week  32561 non-null  int64 \n",
      " 13  native_country  32561 non-null  object\n",
      " 14  income          32561 non-null  object\n",
      "dtypes: int64(6), object(9)\n",
      "memory usage: 3.7+ MB\n",
      "None\n"
     ]
    }
   ],
   "source": [
    "#looking at the datatype\n",
    "print(df.info())\n",
    "\n",
    "#have to transform the variables for regression"
   ]
  },
  {
   "cell_type": "code",
   "execution_count": 7,
   "id": "50ad7ad6-5982-4cc8-9dd7-ae4da038715f",
   "metadata": {},
   "outputs": [
    {
     "data": {
      "text/plain": [
       "array([' <=50K', ' >50K'], dtype=object)"
      ]
     },
     "execution_count": 7,
     "metadata": {},
     "output_type": "execute_result"
    }
   ],
   "source": [
    "df['income'].unique()"
   ]
  },
  {
   "cell_type": "code",
   "execution_count": 8,
   "id": "722bb87d-899c-4493-9077-692faab38c10",
   "metadata": {},
   "outputs": [],
   "source": [
    "#encoding categorical variables to numeric codes\n",
    "from sklearn.preprocessing import LabelEncoder\n",
    "\n",
    "#calling labelencoder\n",
    "lab_enc = LabelEncoder()\n",
    "\n",
    "#performing label encoding in the select features\n",
    "df['workclass'] = lab_enc.fit_transform(df['workclass'])\n",
    "df['education'] = lab_enc.fit_transform(df['education'])\n",
    "df['marital_status'] = lab_enc.fit_transform(df['marital_status'])\n",
    "df['occupation'] = lab_enc.fit_transform(df['occupation'])\n",
    "df['relationship'] = lab_enc.fit_transform(df['relationship'])\n",
    "df['race'] = lab_enc.fit_transform(df['race'])\n",
    "df['sex'] = lab_enc.fit_transform(df['sex'])\n",
    "df['native_country'] = lab_enc.fit_transform(df['native_country'])\n"
   ]
  },
  {
   "cell_type": "code",
   "execution_count": 9,
   "id": "a44f1bb5-63e5-4131-b39f-792c4e5a7fd9",
   "metadata": {},
   "outputs": [
    {
     "name": "stdout",
     "output_type": "stream",
     "text": [
      "income\n",
      " <=50K    24720\n",
      " >50K      7841\n",
      "Name: count, dtype: int64\n",
      "After encoding income\n",
      "0    24720\n",
      "1     7841\n",
      "Name: count, dtype: int64\n"
     ]
    }
   ],
   "source": [
    "print(df['income'].value_counts())\n",
    "#  # <=50K    24720\n",
    "#  # >50K      7841\n",
    "\n",
    "#Encoding for label. If <=50k then 0 else 1\n",
    "label_info = {' <=50K':0, ' >50K':1}\n",
    "df['income'] = df['income'].map(label_info)\n",
    "# # source:https://stackoverflow.com/questions/65716571/encoding-column-pandas-using-if-condition\n",
    "\n",
    "# # after encoding \n",
    "print(f\"After encoding\", df['income'].value_counts())"
   ]
  },
  {
   "cell_type": "code",
   "execution_count": 10,
   "id": "3f47c9ac-3dea-4028-8faa-d9e5bd67d038",
   "metadata": {},
   "outputs": [
    {
     "data": {
      "text/html": [
       "<div>\n",
       "<style scoped>\n",
       "    .dataframe tbody tr th:only-of-type {\n",
       "        vertical-align: middle;\n",
       "    }\n",
       "\n",
       "    .dataframe tbody tr th {\n",
       "        vertical-align: top;\n",
       "    }\n",
       "\n",
       "    .dataframe thead th {\n",
       "        text-align: right;\n",
       "    }\n",
       "</style>\n",
       "<table border=\"1\" class=\"dataframe\">\n",
       "  <thead>\n",
       "    <tr style=\"text-align: right;\">\n",
       "      <th></th>\n",
       "      <th>age</th>\n",
       "      <th>workclass</th>\n",
       "      <th>fnlwgt</th>\n",
       "      <th>education</th>\n",
       "      <th>education_num</th>\n",
       "      <th>marital_status</th>\n",
       "      <th>occupation</th>\n",
       "      <th>relationship</th>\n",
       "      <th>race</th>\n",
       "      <th>sex</th>\n",
       "      <th>capital_gain</th>\n",
       "      <th>capital_loss</th>\n",
       "      <th>hours_per_week</th>\n",
       "      <th>native_country</th>\n",
       "      <th>income</th>\n",
       "    </tr>\n",
       "  </thead>\n",
       "  <tbody>\n",
       "    <tr>\n",
       "      <th>0</th>\n",
       "      <td>39</td>\n",
       "      <td>7</td>\n",
       "      <td>77516</td>\n",
       "      <td>9</td>\n",
       "      <td>13</td>\n",
       "      <td>4</td>\n",
       "      <td>1</td>\n",
       "      <td>1</td>\n",
       "      <td>4</td>\n",
       "      <td>1</td>\n",
       "      <td>2174</td>\n",
       "      <td>0</td>\n",
       "      <td>40</td>\n",
       "      <td>39</td>\n",
       "      <td>0</td>\n",
       "    </tr>\n",
       "    <tr>\n",
       "      <th>1</th>\n",
       "      <td>50</td>\n",
       "      <td>6</td>\n",
       "      <td>83311</td>\n",
       "      <td>9</td>\n",
       "      <td>13</td>\n",
       "      <td>2</td>\n",
       "      <td>4</td>\n",
       "      <td>0</td>\n",
       "      <td>4</td>\n",
       "      <td>1</td>\n",
       "      <td>0</td>\n",
       "      <td>0</td>\n",
       "      <td>13</td>\n",
       "      <td>39</td>\n",
       "      <td>0</td>\n",
       "    </tr>\n",
       "    <tr>\n",
       "      <th>2</th>\n",
       "      <td>38</td>\n",
       "      <td>4</td>\n",
       "      <td>215646</td>\n",
       "      <td>11</td>\n",
       "      <td>9</td>\n",
       "      <td>0</td>\n",
       "      <td>6</td>\n",
       "      <td>1</td>\n",
       "      <td>4</td>\n",
       "      <td>1</td>\n",
       "      <td>0</td>\n",
       "      <td>0</td>\n",
       "      <td>40</td>\n",
       "      <td>39</td>\n",
       "      <td>0</td>\n",
       "    </tr>\n",
       "    <tr>\n",
       "      <th>3</th>\n",
       "      <td>53</td>\n",
       "      <td>4</td>\n",
       "      <td>234721</td>\n",
       "      <td>1</td>\n",
       "      <td>7</td>\n",
       "      <td>2</td>\n",
       "      <td>6</td>\n",
       "      <td>0</td>\n",
       "      <td>2</td>\n",
       "      <td>1</td>\n",
       "      <td>0</td>\n",
       "      <td>0</td>\n",
       "      <td>40</td>\n",
       "      <td>39</td>\n",
       "      <td>0</td>\n",
       "    </tr>\n",
       "    <tr>\n",
       "      <th>4</th>\n",
       "      <td>28</td>\n",
       "      <td>4</td>\n",
       "      <td>338409</td>\n",
       "      <td>9</td>\n",
       "      <td>13</td>\n",
       "      <td>2</td>\n",
       "      <td>10</td>\n",
       "      <td>5</td>\n",
       "      <td>2</td>\n",
       "      <td>0</td>\n",
       "      <td>0</td>\n",
       "      <td>0</td>\n",
       "      <td>40</td>\n",
       "      <td>5</td>\n",
       "      <td>0</td>\n",
       "    </tr>\n",
       "  </tbody>\n",
       "</table>\n",
       "</div>"
      ],
      "text/plain": [
       "   age  workclass  fnlwgt  education  education_num  marital_status  \\\n",
       "0   39          7   77516          9             13               4   \n",
       "1   50          6   83311          9             13               2   \n",
       "2   38          4  215646         11              9               0   \n",
       "3   53          4  234721          1              7               2   \n",
       "4   28          4  338409          9             13               2   \n",
       "\n",
       "   occupation  relationship  race  sex  capital_gain  capital_loss  \\\n",
       "0           1             1     4    1          2174             0   \n",
       "1           4             0     4    1             0             0   \n",
       "2           6             1     4    1             0             0   \n",
       "3           6             0     2    1             0             0   \n",
       "4          10             5     2    0             0             0   \n",
       "\n",
       "   hours_per_week  native_country  income  \n",
       "0              40              39       0  \n",
       "1              13              39       0  \n",
       "2              40              39       0  \n",
       "3              40              39       0  \n",
       "4              40               5       0  "
      ]
     },
     "execution_count": 10,
     "metadata": {},
     "output_type": "execute_result"
    }
   ],
   "source": [
    "df.head()"
   ]
  },
  {
   "cell_type": "code",
   "execution_count": 11,
   "id": "e223a096-046b-49cf-b136-8e4d1786a768",
   "metadata": {},
   "outputs": [],
   "source": [
    "#Selecting features and splitting the datasets into features and label\n",
    "selected_features = ['age', 'workclass', 'education_num','marital_status', 'occupation','relationship', 'race', 'sex', \"hours_per_week\", \"native_country\"]\n",
    "\n",
    "x = df[selected_features] #feature\n",
    "y = df.income #label"
   ]
  },
  {
   "cell_type": "code",
   "execution_count": 12,
   "id": "876de359-7f4d-4696-aff7-676bc5d4547d",
   "metadata": {},
   "outputs": [],
   "source": [
    "#Splitting the dataset\n",
    "\n",
    "x_train, x_test, y_train, y_test = train_test_split(x,y, test_size = 0.25, random_state=7)"
   ]
  },
  {
   "cell_type": "code",
   "execution_count": 13,
   "id": "3df8fd35-0ec6-4bf8-865a-b23c8ac744a9",
   "metadata": {},
   "outputs": [],
   "source": [
    "#Logistic Regression\n",
    "#Source: https://www.datacamp.com/tutorial/understanding-logistic-regression-python?irclickid=XPG32xUYdxyPWbHWdp29132wUkFSTqSZwQmx3c0&irgwc=1&im_rewards=1&utm_medium=affiliate&utm_source=impact&utm_campaign=000000_1-2003851_2-mix_3-all_4-na_5-na_6-na_7-mp_8-affl-ip_9-na_10-bau_11-Bing%20Rebates%20by%20Microsoft&utm_content=BANNER&utm_term=EdgeBingFlow\n",
    "\n",
    "#setting a seed\n",
    "model1 = LogisticRegression(max_iter=1000,random_state=7)\n",
    "\n",
    "#fitting the model using our data\n",
    "model1.fit(x_train, y_train)\n",
    "\n",
    "#predicting on the test data.\n",
    "y_pred = model1.predict(x_test)"
   ]
  },
  {
   "cell_type": "code",
   "execution_count": 14,
   "id": "9bf1c76f-e588-4b35-84b9-fe10439b8a93",
   "metadata": {},
   "outputs": [
    {
     "name": "stdout",
     "output_type": "stream",
     "text": [
      "[0 1 0 ... 0 0 1]\n"
     ]
    }
   ],
   "source": [
    "print(y_pred)"
   ]
  },
  {
   "cell_type": "code",
   "execution_count": 15,
   "id": "eaf59614-fd98-4576-af6b-221d0676e353",
   "metadata": {},
   "outputs": [
    {
     "data": {
      "text/plain": [
       "array([[5785,  389],\n",
       "       [1180,  787]], dtype=int64)"
      ]
     },
     "execution_count": 15,
     "metadata": {},
     "output_type": "execute_result"
    }
   ],
   "source": [
    "#Evaluation of model\n",
    "\n",
    "#first using confusion matrix\n",
    "\n",
    "from sklearn import metrics\n",
    "\n",
    "confusion_mat = metrics.confusion_matrix(y_test, y_pred)\n",
    "confusion_mat"
   ]
  },
  {
   "cell_type": "code",
   "execution_count": 16,
   "id": "6a86d743-246c-4ddc-a622-ce9a0a96fcf8",
   "metadata": {},
   "outputs": [
    {
     "name": "stdout",
     "output_type": "stream",
     "text": [
      "              precision    recall  f1-score   support\n",
      "\n",
      "       <=50k       0.83      0.94      0.88      6174\n",
      "        >50k       0.67      0.40      0.50      1967\n",
      "\n",
      "    accuracy                           0.81      8141\n",
      "   macro avg       0.75      0.67      0.69      8141\n",
      "weighted avg       0.79      0.81      0.79      8141\n",
      "\n"
     ]
    }
   ],
   "source": [
    "#Classification report\n",
    "from sklearn.metrics import classification_report\n",
    "\n",
    "income_label = ['<=50k', '>50k']\n",
    "\n",
    "print(classification_report(y_test, y_pred, target_names=income_label))"
   ]
  },
  {
   "cell_type": "code",
   "execution_count": 17,
   "id": "02c81a92-a258-485a-95d0-161aa4aa031a",
   "metadata": {},
   "outputs": [
    {
     "data": {
      "image/png": "[encoded data removed]",
      "text/plain": [
       "<Figure size 640x480 with 1 Axes>"
      ]
     },
     "metadata": {},
     "output_type": "display_data"
    }
   ],
   "source": [
    "#ROC Curve\n",
    "import matplotlib.pyplot as plt\n",
    "\n",
    "y_pred_probability = model1.predict_proba(x_test)[::,1]\n",
    "fpr, tpr, _ = metrics.roc_curve(y_test, y_pred_probability)\n",
    "auc = metrics.roc_auc_score(y_test, y_pred_probability)\n",
    "plt.plot(fpr, tpr, label = \"data 1, auc=\"+str(auc))\n",
    "plt.legend(loc=4)\n",
    "plt.show()"
   ]
  },
  {
   "cell_type": "code",
   "execution_count": 24,
   "id": "865c3171-f02e-43e4-bc0a-57353fd21564",
   "metadata": {},
   "outputs": [],
   "source": [
    "#now checking from the test data\n",
    "test = pd.read_csv (\"census-income.test.csv\", index_col = None, names=['age', 'workclass', 'fnlwgt', 'education', 'education_num','marital_status', 'occupation','relationship', 'race', 'sex', 'capital_gain', 'capital_loss', \"hours_per_week\", \"native_country\", 'income'])\n",
    "\n",
    "test.head()\n",
    "\n",
    "#encoding categorical variables to numeric codes\n",
    "from sklearn.preprocessing import LabelEncoder\n",
    "\n",
    "#calling labelencoder\n",
    "lab_enc = LabelEncoder()\n",
    "\n",
    "#performing label encoding in the select features\n",
    "test['workclass'] = lab_enc.fit_transform(test['workclass'])\n",
    "test['education'] = lab_enc.fit_transform(test['education'])\n",
    "test['marital_status'] = lab_enc.fit_transform(test['marital_status'])\n",
    "test['occupation'] = lab_enc.fit_transform(test['occupation'])\n",
    "test['relationship'] = lab_enc.fit_transform(test['relationship'])\n",
    "test['race'] = lab_enc.fit_transform(test['race'])\n",
    "test['sex'] = lab_enc.fit_transform(test['sex'])\n",
    "test['native_country'] = lab_enc.fit_transform(test['native_country'])\n",
    "\n"
   ]
  },
  {
   "cell_type": "code",
   "execution_count": 25,
   "id": "8e7e98d4-efe6-4156-b6d8-3de87f2b72b9",
   "metadata": {},
   "outputs": [
    {
     "data": {
      "text/plain": [
       "array([' <=50K.', ' >50K.'], dtype=object)"
      ]
     },
     "execution_count": 25,
     "metadata": {},
     "output_type": "execute_result"
    }
   ],
   "source": [
    "test['income'].unique()"
   ]
  },
  {
   "cell_type": "code",
   "execution_count": 26,
   "id": "49c0efaf-fe2e-47f6-b84b-2f3122065ca0",
   "metadata": {},
   "outputs": [
    {
     "name": "stdout",
     "output_type": "stream",
     "text": [
      "income\n",
      " <=50K.    12435\n",
      " >50K.      3846\n",
      "Name: count, dtype: int64\n",
      "After encoding income\n",
      "0    12435\n",
      "1     3846\n",
      "Name: count, dtype: int64\n"
     ]
    }
   ],
   "source": [
    "print(test['income'].value_counts())\n",
    "\n",
    "#Encoding for label. If <=50k then 0 else 1\n",
    "label_info = {' <=50K.':0, ' >50K.':1}\n",
    "test['income'] = test['income'].map(label_info)\n",
    "# # source:https://stackoverflow.com/questions/65716571/encoding-column-pandas-using-if-condition\n",
    "\n",
    "# # after encoding \n",
    "print(f\"After encoding\", test['income'].value_counts())"
   ]
  },
  {
   "cell_type": "code",
   "execution_count": 27,
   "id": "95c7e63b-7d02-4021-bcc4-3ed0aacd3688",
   "metadata": {},
   "outputs": [
    {
     "data": {
      "text/html": [
       "<div>\n",
       "<style scoped>\n",
       "    .dataframe tbody tr th:only-of-type {\n",
       "        vertical-align: middle;\n",
       "    }\n",
       "\n",
       "    .dataframe tbody tr th {\n",
       "        vertical-align: top;\n",
       "    }\n",
       "\n",
       "    .dataframe thead th {\n",
       "        text-align: right;\n",
       "    }\n",
       "</style>\n",
       "<table border=\"1\" class=\"dataframe\">\n",
       "  <thead>\n",
       "    <tr style=\"text-align: right;\">\n",
       "      <th></th>\n",
       "      <th>age</th>\n",
       "      <th>workclass</th>\n",
       "      <th>fnlwgt</th>\n",
       "      <th>education</th>\n",
       "      <th>education_num</th>\n",
       "      <th>marital_status</th>\n",
       "      <th>occupation</th>\n",
       "      <th>relationship</th>\n",
       "      <th>race</th>\n",
       "      <th>sex</th>\n",
       "      <th>capital_gain</th>\n",
       "      <th>capital_loss</th>\n",
       "      <th>hours_per_week</th>\n",
       "      <th>native_country</th>\n",
       "      <th>income</th>\n",
       "    </tr>\n",
       "  </thead>\n",
       "  <tbody>\n",
       "    <tr>\n",
       "      <th>0</th>\n",
       "      <td>25</td>\n",
       "      <td>4</td>\n",
       "      <td>226802</td>\n",
       "      <td>1</td>\n",
       "      <td>7</td>\n",
       "      <td>4</td>\n",
       "      <td>7</td>\n",
       "      <td>3</td>\n",
       "      <td>2</td>\n",
       "      <td>1</td>\n",
       "      <td>0</td>\n",
       "      <td>0</td>\n",
       "      <td>40</td>\n",
       "      <td>38</td>\n",
       "      <td>0</td>\n",
       "    </tr>\n",
       "    <tr>\n",
       "      <th>1</th>\n",
       "      <td>38</td>\n",
       "      <td>4</td>\n",
       "      <td>89814</td>\n",
       "      <td>11</td>\n",
       "      <td>9</td>\n",
       "      <td>2</td>\n",
       "      <td>5</td>\n",
       "      <td>0</td>\n",
       "      <td>4</td>\n",
       "      <td>1</td>\n",
       "      <td>0</td>\n",
       "      <td>0</td>\n",
       "      <td>50</td>\n",
       "      <td>38</td>\n",
       "      <td>0</td>\n",
       "    </tr>\n",
       "    <tr>\n",
       "      <th>2</th>\n",
       "      <td>28</td>\n",
       "      <td>2</td>\n",
       "      <td>336951</td>\n",
       "      <td>7</td>\n",
       "      <td>12</td>\n",
       "      <td>2</td>\n",
       "      <td>11</td>\n",
       "      <td>0</td>\n",
       "      <td>4</td>\n",
       "      <td>1</td>\n",
       "      <td>0</td>\n",
       "      <td>0</td>\n",
       "      <td>40</td>\n",
       "      <td>38</td>\n",
       "      <td>1</td>\n",
       "    </tr>\n",
       "    <tr>\n",
       "      <th>3</th>\n",
       "      <td>44</td>\n",
       "      <td>4</td>\n",
       "      <td>160323</td>\n",
       "      <td>15</td>\n",
       "      <td>10</td>\n",
       "      <td>2</td>\n",
       "      <td>7</td>\n",
       "      <td>0</td>\n",
       "      <td>2</td>\n",
       "      <td>1</td>\n",
       "      <td>7688</td>\n",
       "      <td>0</td>\n",
       "      <td>40</td>\n",
       "      <td>38</td>\n",
       "      <td>1</td>\n",
       "    </tr>\n",
       "    <tr>\n",
       "      <th>4</th>\n",
       "      <td>18</td>\n",
       "      <td>0</td>\n",
       "      <td>103497</td>\n",
       "      <td>15</td>\n",
       "      <td>10</td>\n",
       "      <td>4</td>\n",
       "      <td>0</td>\n",
       "      <td>3</td>\n",
       "      <td>4</td>\n",
       "      <td>0</td>\n",
       "      <td>0</td>\n",
       "      <td>0</td>\n",
       "      <td>30</td>\n",
       "      <td>38</td>\n",
       "      <td>0</td>\n",
       "    </tr>\n",
       "  </tbody>\n",
       "</table>\n",
       "</div>"
      ],
      "text/plain": [
       "   age  workclass  fnlwgt  education  education_num  marital_status  \\\n",
       "0   25          4  226802          1              7               4   \n",
       "1   38          4   89814         11              9               2   \n",
       "2   28          2  336951          7             12               2   \n",
       "3   44          4  160323         15             10               2   \n",
       "4   18          0  103497         15             10               4   \n",
       "\n",
       "   occupation  relationship  race  sex  capital_gain  capital_loss  \\\n",
       "0           7             3     2    1             0             0   \n",
       "1           5             0     4    1             0             0   \n",
       "2          11             0     4    1             0             0   \n",
       "3           7             0     2    1          7688             0   \n",
       "4           0             3     4    0             0             0   \n",
       "\n",
       "   hours_per_week  native_country  income  \n",
       "0              40              38       0  \n",
       "1              50              38       0  \n",
       "2              40              38       1  \n",
       "3              40              38       1  \n",
       "4              30              38       0  "
      ]
     },
     "execution_count": 27,
     "metadata": {},
     "output_type": "execute_result"
    }
   ],
   "source": [
    "test.head()"
   ]
  },
  {
   "cell_type": "code",
   "execution_count": 29,
   "id": "0676cd19-a53b-4269-95c9-c7eaa62d5fc9",
   "metadata": {},
   "outputs": [
    {
     "data": {
      "text/plain": [
       "array([[11579,   856],\n",
       "       [ 2331,  1515]], dtype=int64)"
      ]
     },
     "execution_count": 29,
     "metadata": {},
     "output_type": "execute_result"
    }
   ],
   "source": [
    "#from the real test data\n",
    "x_test_real = test[selected_features]\n",
    "y_test_real = test.income\n",
    "\n",
    "\n",
    "y_pred_real = model1.predict(x_test_real)\n",
    "\n",
    "\n",
    "#Evaluation of model\n",
    "\n",
    "#first using confusion matrix\n",
    "\n",
    "from sklearn import metrics\n",
    "\n",
    "confusion_mat = metrics.confusion_matrix(y_test_real, y_pred_real)\n",
    "confusion_mat"
   ]
  },
  {
   "cell_type": "code",
   "execution_count": 30,
   "id": "5429a89c-c773-4d91-89aa-dee074a7b29d",
   "metadata": {},
   "outputs": [
    {
     "name": "stdout",
     "output_type": "stream",
     "text": [
      "              precision    recall  f1-score   support\n",
      "\n",
      "       <=50k       0.83      0.93      0.88     12435\n",
      "        >50k       0.64      0.39      0.49      3846\n",
      "\n",
      "    accuracy                           0.80     16281\n",
      "   macro avg       0.74      0.66      0.68     16281\n",
      "weighted avg       0.79      0.80      0.79     16281\n",
      "\n"
     ]
    }
   ],
   "source": [
    "#Classification report\n",
    "from sklearn.metrics import classification_report\n",
    "\n",
    "income_label = ['<=50k', '>50k']\n",
    "\n",
    "print(classification_report(y_test_real, y_pred_real, target_names=income_label))"
   ]
  },
  {
   "cell_type": "code",
   "execution_count": 32,
   "id": "2147df75-9e75-4c78-8e69-7d5a19757566",
   "metadata": {},
   "outputs": [
    {
     "data": {
      "image/png": "[encoded data removed]",
      "text/plain": [
       "<Figure size 640x480 with 1 Axes>"
      ]
     },
     "metadata": {},
     "output_type": "display_data"
    }
   ],
   "source": [
    "#ROC Curve\n",
    "import matplotlib.pyplot as plt\n",
    "\n",
    "y_pred_probability_real = model1.predict_proba(x_test_real)[::,1]\n",
    "fpr, tpr, _ = metrics.roc_curve(y_test_real, y_pred_probability_real)\n",
    "auc = metrics.roc_auc_score(y_test_real, y_pred_probability_real)\n",
    "plt.plot(fpr, tpr, label = \"data 1, auc=\"+str(auc))\n",
    "plt.legend(loc=4)\n",
    "plt.show()"
   ]
  }
 ],
 "metadata": {
  "kernelspec": {
   "display_name": "Python 3 (ipykernel)",
   "language": "python",
   "name": "python3"
  },
  "language_info": {
   "codemirror_mode": {
    "name": "ipython",
    "version": 3
   },
   "file_extension": ".py",
   "mimetype": "text/x-python",
   "name": "python",
   "nbconvert_exporter": "python",
   "pygments_lexer": "ipython3",
   "version": "3.9.18"
  }
 },
 "nbformat": 4,
 "nbformat_minor": 5
}
