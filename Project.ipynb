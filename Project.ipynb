{
 "cells": [
  {
   "cell_type": "code",
   "execution_count": null,
   "id": "c64a6c4f-ff4d-4223-8e7f-1a1dec31abce",
   "metadata": {},
   "outputs": [],
   "source": [
    "###----Consolidated Notebook----####"
   ]
  },
  {
   "cell_type": "code",
   "execution_count": null,
   "id": "15f0c932-4d54-4cec-b8b8-038cb9a42466",
   "metadata": {},
   "outputs": [],
   "source": [
    "##Logistic Regression##\n"
   ]
  }
 ],
 "metadata": {
  "kernelspec": {
   "display_name": "Python 3 (ipykernel)",
   "language": "python",
   "name": "python3"
  },
  "language_info": {
   "codemirror_mode": {
    "name": "ipython",
    "version": 3
   },
   "file_extension": ".py",
   "mimetype": "text/x-python",
   "name": "python",
   "nbconvert_exporter": "python",
   "pygments_lexer": "ipython3",
   "version": "3.9.18"
  }
 },
 "nbformat": 4,
 "nbformat_minor": 5
}
